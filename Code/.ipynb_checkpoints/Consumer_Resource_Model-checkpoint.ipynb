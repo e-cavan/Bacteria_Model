{
 "cells": [
  {
   "cell_type": "markdown",
   "metadata": {},
   "source": [
    "# ERCITE: Impact of chemical pollution on microbial communities through ecological modelling\n",
    "\n",
    "Emma Cavan  \n",
    "Tom Clegg, James Rosindell, Samraat Pawar"
   ]
  },
  {
   "cell_type": "markdown",
   "metadata": {},
   "source": [
    "# Introduction\n",
    "\n",
    "- Want to find how microbial communities will respond to environmental changes such as pollution. This includes how community assembly responds to stressors. For example, if a chemical stressors caused certain microbes to grow slower, the assembly and resulting community structure would differ from that of an unperturbed community.\n",
    "- Once this has been modelled in a microbial community can then move on to higher trophic levels.\n",
    "- As temperature impacts metabolic processes, it is important that first the model is able to meaningfully assemble a community at different temperatures, prior to thinking about chemical stressors. Mass is assumed constant at each trophic level.  \n",
    "\n",
    "\n",
    "- There is a theory 'Competitive Exclusion Principle' that suggests that you cannot have more species in co-existence than the number of resources. However there examples in the real world that challenge this, e.g. phytoplankton communities in nutrient-limited regions of the oceans.\n",
    "- To achieve co-existence with few resources communities can either exhibit equalising (minimse fitness differences between species) or stabilising (increase negative intra- over negative inter-specific interactions) mechanisms. See [Chesson 2000](https://www.sciencedirect.com/science/article/pii/S0040580900914862) for more information on this.\n",
    "- This model explores how 'equalizing' mechanisms, i.e. where consumers with most similar fitnesses/traits remain in co-existence for longest. [Pacciani-Mori et al 2020](https://journals.plos.org/ploscompbiol/article?id=10.1371/journal.pcbi.1007896) showed a similar result (see Fig. 2 in Pacciani-Mori et al 2020), whereby the more similar two species were, the longer it takes for one to go extinct. \n",
    "- Pacciani-Mori et al looked at adaptation of species and co-existence with a small part of the study focussed on size (mass). They did not look at co-existence with temperature or chemical stressor.\n",
    "- The purpose of this first work as part of this modelling project is to publish the model presented below, and when and why co-existence occurs, the times to extinction/dominance of one species within a group competeting, and these processes vary at different temperatures.\n"
   ]
  },
  {
   "cell_type": "markdown",
   "metadata": {},
   "source": [
    "# The Model\n",
    "\n",
    "This model is adapted from a typical consumer-resource model by [MacArthur 1970](https://www.sciencedirect.com/science/article/pii/0040580970900390), [Marsland et al. (2019)](https://journals.plos.org/ploscompbiol/article?id=10.1371/journal.pcbi.1006793) and [Pacciani-Mori et al 2020](https://journals.plos.org/ploscompbiol/article?id=10.1371/journal.pcbi.1007896), with Tom Clegg making the first version used in this project [see this notebook](https://nbviewer.jupyter.org/github/CleggTom/Bacteria_EcoFunc/blob/master/notebooks/Metabolic_model.ipynb) which has since been further adapted. The model traces consumer ($C$) concentration (g/mL) and resource ($S$) concentration (g/mL) over time.\n",
    "\n",
    "## Equations\n",
    "\n",
    "For an $i$th consumers with $j$ resources the core consumer equation is:\n",
    "\n",
    "\\begin{equation}\n",
    "dC_i/dt = C_i\\Bigl(\\sum_{j=1}^{M}U_{ij}s_jv_j(1-\\sum_{j \\neq k}^{M}l_{jk}) - R_i\\Bigl)\n",
    "\\end{equation}\n",
    "\n",
    "where $C_i$ is the concentration of bacteria cells $i$, $U_{ij}$ is the preference of consumer $i$ to uptake resource $j$ in matrix form, $s_j$ is a function accounting for the fact that the dependence of a species’ growth rate on a given resource concentration saturates as the resource increases such that:\n",
    "\n",
    "\\begin{equation}\n",
    "s_j = \\frac{S_j}{K_j + S_j}\n",
    "\\end{equation}\n",
    "\n",
    "where $S_j$ is the concentration of resources $j$ and $K_j$ is the half saturation constant of that resource. This is a Type II functional response but a Type I can be selected in the code. $l_{jk}$ is the proportion of $j$ taken up by the consumer that is converted to and released as resource $k$ (i.e. cross-feeding), and $R_i$ is the respiration loss term. \n",
    "For a $j$th resource the core equation is:\n",
    "\n",
    "For a $j$th resource the core equation is:\n",
    "\n",
    "\\begin{equation}\n",
    "dS_j/dt = \\rho_j - \\sum_{i=1}^{N}\\Bigl(C_iU_{ij}s_j-\\sum_{j \\neq k}^{M}C_iU_{ij}s_jl_{kj}\\Bigl)\n",
    "\\end{equation}\n",
    "\n",
    "where $\\rho$ is the external input of resource $j$ and $l_{kj}$ is the gain and conversion of resource $j$ from $k$.\n",
    "\n",
    "## Units\n",
    "\n",
    "|Parameter/Variable name | Param symbol | Units | Initial value |\n",
    "|---|---|---|---|\n",
    "|Bacteria | $C_i$ | g/mL | 0.1 | \n",
    "|Resources | $S_j$ | g/mL | 1 | \n",
    "|Uptake | $U$ | 1/ time | Temperature-dependant | \n",
    "|Half saturation constant | $K_j$ | g/mL | 10 |\n",
    "|Excretion | $l_{jk}$ | n.d | 0.4 |\n",
    "|Respiration | $R_i$ | 1/time | Temperature-dependant | \n",
    "|Resource supply | $\\rho_j$ | g/mL time | 1 |\n",
    "\n",
    "\n",
    "In our model, consumers compete against _some_ other consumers, not the entire community. e.g. If you have 5 resources and 10 consumers, then there will be 5 competiting consumer pairs for the 5 resources. With 15 consumers, there would be competiting triplets for the 5 resources and so on. This set up of competition is expressed in a preferences matrix $U_{ij}$, where each consumer consumers only 1 resourse, but more than 1 consumer can consume a resource.\n",
    "\n",
    "All consumers are given the same starting concentration in the model. The differences between them can be thought of as different functional traits represented by different parameterisations of $U_{ij}$ and $R_i$ through temperature dependance.\n"
   ]
  },
  {
   "cell_type": "markdown",
   "metadata": {},
   "source": [
    "# Analytical Solutions\n",
    "\n",
    "## Competition - different functional traits\n",
    "\n",
    "When competing consumer pairs have different functional traits (see section on thermal fitness below) one consumer will outcompete the other. The solution in this situation is easy to find using Python's `sympy` package."
   ]
  },
  {
   "cell_type": "code",
   "execution_count": 3,
   "metadata": {},
   "outputs": [
    {
     "name": "stdout",
     "output_type": "stream",
     "text": [
      "⎡⎛   ρ       -R₂⋅k     ⎞  ⎛ρ          -R₁⋅k     ⎞⎤\n",
      "⎢⎜0, ──, ──────────────⎟, ⎜──, 0, ──────────────⎟⎥\n",
      "⎣⎝   R₂  R₂ + U₂⋅a - U₂⎠  ⎝R₁     R₁ + U₁⋅a - U₁⎠⎦\n"
     ]
    }
   ],
   "source": [
    "from sympy import *\n",
    "import scipy as sc\n",
    "U1, U2, S,k, a, R1, R2,C1, C2,rho, t = var(\"U1, U2, S, k,a,R1, R2,C1, C2, rho,t\",real = True)\n",
    "\n",
    "dC1_dt = C1 * (((U1 * S)/(k+S) * (1-a)) - R1)\n",
    "dC2_dt = C2 * (((U2 * S)/(k+S) * (1-a)) - R2)\n",
    "dS_dt = rho - ((((U1 * S)/(k+S) * C1) - ((U1 * S)/(k+S) * C1 *a)) + (((U2 * S)/(k+S) * C2)- ((U2 * S)/(k+S) * C2 *a)))\n",
    "dC1_dt, dC2_dt, dS_dt\n",
    "C1_eqlb = Eq(dC1_dt, 0)\n",
    "C2_eqlb = Eq(dC2_dt, 0)\n",
    "S_eqlb = Eq(dS_dt, 0)\n",
    "\n",
    "pretty_print(solve((C1_eqlb,C2_eqlb, S_eqlb), C1,C2,S))"
   ]
  },
  {
   "cell_type": "markdown",
   "metadata": {},
   "source": [
    "Note - the leakage term ($l$) is represented by $a$ in `sympy` above as it is difficult to distinguish between $l$ and $1$.\n",
    "\n",
    "The two solutions above are for when consumer 2 (left) or when consumer 1 (right) wins. The thrid term in each solution is the solution for the resource concentration, which is also known as R* - when multiple species are competing for a single limiting resource, then whichever species can survive at the lowest equilibrium resource level will win (outcompete the other). See work by David Tilman on this.\n",
    "\n",
    "Stationary points for different functional traits as shown by `sympy` can be written as:\n",
    "\n",
    "\\begin{equation}\n",
    "C_i = \\frac{\\rho_j}{R_i}\n",
    "\\end{equation}\n",
    "\n",
    "\\begin{equation}\n",
    "S_j = R* = \\frac{R_iK_j}{U_{ij}(1-l_{kj}) - R_i}\n",
    "\\end{equation}\n"
   ]
  },
  {
   "cell_type": "markdown",
   "metadata": {},
   "source": [
    "## Competition - same functional traits\n",
    "\n",
    "In vary rare cases, at least in the simulation, consumers may be competiting against those with the same functional traits. In this situation neither consumer will become extinct and there will be no winner. This results in a line of points rather than one stationary point. `sympy` does not find the solution for these scenarios and so these were worked out by hand.\n",
    "\n",
    "For 2 competiting species:\n",
    "\n",
    "\\begin{equation}\n",
    "C_1 = \\frac{\\rho_j K_j - C_2R_2}{R_1} + \\frac{\\rho_j}{R_1U_{1j}(1-l_j)}\n",
    "\\end{equation}\n",
    "\n",
    "\\begin{equation}\n",
    "C_2 = \\frac{\\rho_jk_j - C_1R_1}{R_2}+ \\frac{\\rho_j}{R_2U_{2j}(1-l_j)}\n",
    "\\end{equation}"
   ]
  },
  {
   "cell_type": "markdown",
   "metadata": {},
   "source": [
    "# Thermal fitness of consumers\n",
    "\n",
    "\n",
    "\n",
    "In this model only $U_{ij}$ and $R_i$ can be temperature- and size-dependant as they are the only terms that explicitly depend on an individual consumer $i$. Temperature- and size-dependancy are formulated following the Metabolic Theory of Ecology and the Boltzmann-Arrhenis equation. A Sharpe-Schoolfield equation was not used so all model terms (including temperature terms) could be solved and because natural temperatures are generally below an organisms $T_{peak}$.\n",
    "\n",
    "## Thermal fitness equations\n",
    "\n",
    "Uptake and respiration can be calculated as:\n",
    "\n",
    "\\begin{equation}\n",
    "U_{ij} = B_{U}M^{-0.25} * {e^{\\frac{-Ea_U}{k}\\cdot\\Bigl(\\frac{1}{T} - \\frac{1}{T_{ref}}\\Bigl)}}\n",
    "\\end{equation}\n",
    "\n",
    "\\begin{equation}\n",
    "R_i = B_{R}M^{-0.25} * {e^{\\frac{-Ea_R}{k}\\cdot\\Bigl(\\frac{1}{T} - \\frac{1}{T_{ref}}\\Bigl)}}\n",
    "\\end{equation}\n",
    "\n",
    "where $BM^{-0.25}$ is the mass ($M$) scaled to $\\frac{3}{4}$ / M = $M^{-0.25}$ multiplied by a normalisation constant ($B$) that is higher for uptake ($U_{ij}$) than respiration ($R_i$), see below. $Ea$ is the activation energy in eV, $T$ is the temperature and $T_{ref}$ is the reference temperature. All temperatures are expressed in Kelvin (K) and $k$ is the Boltzmann constant of $8.62 x 10^{-5} eV K^{-1}$.\n",
    "\n",
    "## Thermal fitness units\n",
    "\n",
    "|Parameter/Variable name | Param symbol | Units | Initial value |\n",
    "|---|---|---|---|\n",
    "|Uptake |  $U$ | 1/ time | Temperature-dependant | \n",
    "|Respiration | $R$ | 1/time | Temperature-dependant | \n",
    "|Normalisation constant | $B$ | g/time| $B_{R}$ < $B_{U}$|\n",
    "|Mass | $M$ | g| 1 |\n",
    "|Activation Energy | $Ea$ | eV| $Ea_R$ < $Ea_U$|\n",
    "|Boltsmann constant | $k$ | ev/K| 0.0000862|\n",
    "|Reference Temperature | $T_{ref}$ | K| 273.15|\n",
    "|Temperature | $T$ | K| variable|\n",
    "\n",
    "## Thermal fitness parameterisations\n",
    "\n",
    "To assign different thermal fitness properties to each consumer, $Ea$ and $B$ need to be parameterised. Dr Tom Smith at Silwood has experimental results we can use for this. Tom's data shows the response of bacterial growth rate and respiration to temperautre. Growth rate is not the same as uptake, but after much discussion amongst the group we decided could use the parameterisations of growth rate vs temperature as a proxy for uptake vs temperature.\n",
    "\n",
    "$B_0$, the normalisation constant is inversley related to $Ea$. This means as the slope ($Ea$ ) between growth rate and temperature increases, the growth rate at the reference temperature (0 C) decreases. Tom explains this can be explained by bacteria being either generalists or specalists - where a generalist as a high $B_0$ and shallower slope ($Ea$) increasing the temperautre range over which they can perform well at the expense of higher temperature rates. A specialist will have a lower $B0$ but higher $Ea$ meaning it will perform well at higher temperatures. These relationships are capture from Tom's data and represented in the equations below for $B_U$ and $B_R$.\n",
    "\n",
    "\n",
    "### Growth rate\n",
    "\n",
    "Mean $Ea$ = 0.83, range from 0.4 - 1.6. In the model code the median is set high at 1.5 to make sure large difference between $Ea_U$ and $Ea_R$.\n",
    "\n",
    "From Tom's data (reading regression from plot, significant):\n",
    "\\begin{equation}\n",
    "B_U = 10^{2.84 - (4.96 \\cdot Ea_U)}\n",
    "\\end{equation}\n",
    "\n",
    "In our model code I added $+4$ to ensure that $B_U$ >> $B_R$, see below. This will need to be revised and justified:\n",
    "\n",
    "\\begin{equation}\n",
    "B_U = 10^{2.84 - (4.96 \\cdot Ea_U)} + 4\n",
    "\\end{equation}\n",
    "\n",
    "\n",
    "### Respiration\n",
    "Note, this is from a pers. comm. with Tom and at the time of writing is unpublished data.\n",
    "\n",
    "Mean $Ea$ = 0.7, range from 0.5 - 1.1.\n",
    "\n",
    "From Tom's data (regression results actually given to me, not significant):\n",
    "\\begin{equation}\n",
    "B_R = 10^{1.29 - (1.25 \\cdot Ea_R)}\n",
    "\\end{equation}"
   ]
  },
  {
   "cell_type": "markdown",
   "metadata": {},
   "source": [
    "# Assembly\n",
    "\n",
    "There is competition for resources between random consumer pairs in this model, so it is inevitable that one consumer will have a competitive advantage over the other. Thus one of the consumers in the pair will become have such a low that they are technically extinct. Assembly models allow these extinct consumers to be removed and replaced with another consumer with randombly assigned traits (here $U$ and $R$ parameters).\n",
    "\n",
    "Assembly works as follows in this model:\n",
    "- The number of times assembly is allowed to occur is set ($ass$ in model code)\n",
    "- The model is run for a set number of time steps ($t_{fin}$)\n",
    "- Any consumers with a low biomass (< 0.01) are removed\n",
    "- A new set of $Ea$ and $B_0$ values are compiled to replace the now extinct species, giving way to new species with different traite values ($U$ and $R$)\n",
    "- The model is re-run until the assembly limit is reached\n",
    "\n",
    "At the moment the temperature remains constant during all model runs, but the model could be set up so that temperature (or a chemical stressor) changes a parameters (e.g. $U$) between assemblies to see how that changes the resulting community structure.\n",
    "\n",
    "## Steady state\n",
    "\n",
    "During each run of the model the resulting concentration of consumers is checked to make sure each consumer has reached steady state, i.e. its concentration is not fluctuating.\n",
    "\n",
    "This occurs by:\n",
    "- Substracting the consumer concentration from 50 timesteps before the end of the model run, from the final consumer concentration. So if $t_{fin}$ = 100, then subtracting the consumer concentration at $t$ = 50 from $t$ = 100.\n",
    "- If there is a difference between the final concentration and an earlier one, 50 timesteps before, then the model is re-run for 100 timesteps but using the final population concentrations as the inputs.\n",
    "- Once there is no change in concentration of any of the consumers in the last 50 timesteps the loop is broken and the model stops running.\n",
    "\n",
    "50 timesteps to check for steady state over were chosen when running the model for much longer, i.e. 1000 timesteps, so this might want to be reduced when running the model over shorter periods. However, the model generally reaches steady state pretty quickly, within the first 50 timesteps or so."
   ]
  },
  {
   "cell_type": "markdown",
   "metadata": {},
   "source": [
    "# Running the model\n",
    "\n",
    "The main `.py` file to run model is `Bacteria_vector_modular.py`. This script allows the model to be run at multiple temperatures and for assembly to occur. The script calls in other modules:\n",
    "\n",
    "- `model_func.py` with the model equations\n",
    "- `parameters.py`\n",
    "- `size_temp_funcs.py` containing functions to calculate the Arrhenius-Boltzmann equations"
   ]
  },
  {
   "cell_type": "markdown",
   "metadata": {},
   "source": [
    "## 20 C, 2 assmeblies"
   ]
  },
  {
   "cell_type": "code",
   "execution_count": 4,
   "metadata": {},
   "outputs": [
    {
     "data": {
      "image/png": "[encoded data removed]",
      "text/plain": [
       "<Figure size 432x288 with 1 Axes>"
      ]
     },
     "metadata": {
      "needs_background": "light"
     },
     "output_type": "display_data"
    },
    {
     "data": {
      "text/plain": [
       "(array([[0.1      , 0.1      , 0.1      , ..., 0.1      , 0.1      ,\n",
       "         0.1      ],\n",
       "        [0.0315754, 0.0242466, 0.0183687, ..., 0.1056261, 0.1051719,\n",
       "         0.1055502],\n",
       "        [0.0368532, 0.0225391, 0.0116962, ..., 0.1053045, 0.1052266,\n",
       "         0.1049697],\n",
       "        ...,\n",
       "        [0.0505922, 0.       , 0.       , ..., 0.1045497, 0.104851 ,\n",
       "         0.1042492],\n",
       "        [0.0505922, 0.       , 0.       , ..., 0.1045497, 0.104851 ,\n",
       "         0.1042492],\n",
       "        [0.0505922, 0.       , 0.       , ..., 0.1045497, 0.104851 ,\n",
       "         0.1042492]]),\n",
       " array([313.28707621, 322.49732844, 312.38064496, 289.71222856,\n",
       "        309.6770578 , 309.6770578 , 307.88767956, 315.10783759,\n",
       "        314.19613787, 316.02218302]),\n",
       " array([19.76588834, 19.76206931, 19.75939642, 19.75939642, 19.76436064,\n",
       "        19.76092374, 19.76359683, 19.76665224, 19.76627029, 19.7670342 ]))"
      ]
     },
     "execution_count": 4,
     "metadata": {},
     "output_type": "execute_result"
    }
   ],
   "source": [
    "import Bacteria_vector_modular as bvm\n",
    "import parameters as par\n",
    "import model_func as mod\n",
    "import matplotlib.pylab as plt\n",
    "from matplotlib.lines import Line2D\n",
    "from scipy.integrate import odeint\n",
    "import numpy as np\n",
    "import random\n",
    " \n",
    "# Set up parameters\n",
    "N = 10 # Number of consumers\n",
    "M = 5 # Number of resources\n",
    "\n",
    "# Temperature params\n",
    "k = 0.0000862 # Boltzman constant\n",
    "Tref = 273.15 # Reference temperature Kelvin, 0 degrees C\n",
    "pk = 20 # Peak above Tref, degrees C\n",
    "T_pk = Tref + pk # Peak above Tref, Kelvin\n",
    "Ma = 1 # Mass\n",
    "Ea_D = np.repeat(3.5,N) # Deactivation energy - only used if use Sharpe-Schoolfield temp-dependance\n",
    "t_n = 21 # Number of temperatures to run the model at, model starts at 20\n",
    "\n",
    "# Assembly\n",
    "ass = 2 # Assembly number, i.e. how many times the system can assemble\n",
    "\n",
    "t_fin = 100 # Number of time steps\n",
    "t = sc.linspace(0,t_fin-1,t_fin) # Time steps\n",
    "x0 = np.concatenate((sc.full([N], (0.1)),sc.full([M], (0.1)))) # Starting concentration for resources and consumers\n",
    "typ = 2 # Functional response, Type I or II\n",
    "K = 10 # Carrying capacity, kept constant with temperature\n",
    "\n",
    "# Run the model\n",
    "bvm.ass_temp_run(t, N, M, t_n,  Tref, Ma, k, ass, x0, t_fin, T_pk , Ea_D,  typ)"
   ]
  },
  {
   "cell_type": "markdown",
   "metadata": {},
   "source": [
    "The plot above shows the model run at 20 degC and assembly allowed to occur resulting in 2 runs of the model. If runs took longer than 100 timesteps then the consumers had not reached steady state. In this set up there are 10 consumers and 5 resources, meaning there are 5 competiting pairs of consumers. At the end of each model run 5 consumers will go extinct, unless they are competiting against a consumer with the same functional (temperature) traits.  \n",
    "\n",
    "The arrays printed are an array of all the consumer and resource concentrations at each timestep, the $U$ values as a vector (not matrix) and $R$.\n",
    "\n",
    "\n",
    "## 20 and 21 degC, 2 assemblies"
   ]
  },
  {
   "cell_type": "code",
   "execution_count": 5,
   "metadata": {},
   "outputs": [
    {
     "data": {
      "image/png": "[encoded data removed]",
      "text/plain": [
       "<Figure size 432x288 with 1 Axes>"
      ]
     },
     "metadata": {
      "needs_background": "light"
     },
     "output_type": "display_data"
    },
    {
     "data": {
      "text/plain": [
       "(array([[0.1      , 0.1      , 0.1      , ..., 0.1      , 0.1      ,\n",
       "         0.1      ],\n",
       "        [0.02091  , 0.0242584, 0.0148727, ..., 0.1090584, 0.1061398,\n",
       "         0.1073951],\n",
       "        [0.0160449, 0.022544 , 0.0068968, ..., 0.1083028, 0.1055918,\n",
       "         0.1074366],\n",
       "        ...,\n",
       "        [0.       , 0.0460142, 0.       , ..., 0.0925403, 0.0941522,\n",
       "         0.0909559],\n",
       "        [0.       , 0.0460142, 0.       , ..., 0.0925403, 0.0941522,\n",
       "         0.0909559],\n",
       "        [0.       , 0.0460142, 0.       , ..., 0.0925403, 0.0941522,\n",
       "         0.0909559]]),\n",
       " array([367.65547676, 383.59776454, 372.14156805, 388.27839969,\n",
       "        371.01493889, 389.457456  , 384.76260636, 391.82632142,\n",
       "        384.76260636, 399.01972688]),\n",
       " array([21.6889818 , 21.73240647, 21.73240647, 21.71569439, 21.71903578,\n",
       "        21.7491314 , 21.72237768, 21.75582498, 21.73575042, 21.77591807]))"
      ]
     },
     "execution_count": 5,
     "metadata": {},
     "output_type": "execute_result"
    }
   ],
   "source": [
    "# Set up parameters\n",
    "N = 10 # Number of consumers\n",
    "M = 5 # Number of resources\n",
    "\n",
    "# Temperature params\n",
    "k = 0.0000862 # Boltzman constant\n",
    "Tref = 273.15 # Reference temperature Kelvin, 0 degrees C\n",
    "pk = 20 # Peak above Tref, degrees C\n",
    "T_pk = Tref + pk # Peak above Tref, Kelvin\n",
    "Ma = 1 # Mass\n",
    "Ea_D = np.repeat(3.5,N) # Deactivation energy - only used if use Sharpe-Schoolfield temp-dependance\n",
    "t_n = 22 # Number of temperatures to run the model at, model starts at 20\n",
    "\n",
    "# Assembly\n",
    "ass = 2 # Assembly number, i.e. how many times the system can assemble\n",
    "\n",
    "t_fin = 100 # Number of time steps\n",
    "t = sc.linspace(0,t_fin-1,t_fin) # Time steps\n",
    "x0 = np.concatenate((sc.full([N], (0.1)),sc.full([M], (0.1)))) # Starting concentration for resources and consumers\n",
    "typ = 2 # Functional response, Type I or II\n",
    "K = 10 # Carrying capacity, kept constant with temperature\n",
    "\n",
    "# Run the model\n",
    "bvm.ass_temp_run(t, N, M, t_n,  Tref, Ma, k, ass, x0, t_fin, T_pk , Ea_D,  typ)"
   ]
  },
  {
   "cell_type": "markdown",
   "metadata": {},
   "source": [
    "The above plot now shows 4 model runs. The first 2 are at 20 degC showing assembly occuring, the second 2 are at 21 degC. At the slightly higher temperature resource and consumer concentrations are lower."
   ]
  },
  {
   "cell_type": "markdown",
   "metadata": {},
   "source": [
    "# Key results\n",
    "\n",
    "## When a consumer wins and why\n",
    "We can predict which consumer will outcompete its competitor using the analytical solutions. But we can also do it more simply by finding which consumer has the highest $U/R$ ratio.\n",
    "\n",
    "The bacteria with the highest $U$/$R$ wins (as also in Chesson 2000 - equalising mechanism) as has highest uptake relative to respiration loss, and will have lowest R*. Its competitor's concentration will go to 0. We call $U/R$ the Metabolic Ratio of a consumer.\n",
    "\n",
    "As we know that if the Metabolic Ratio of two consumers are the same then neither will go extinct, then we can suppose that the closer the Metabolic ratio is of each consumer then it will take longer for one to go extinct, as shown in the work by Pacciani-Mori et al  2020.\n",
    "\n",
    "## Time to equilibrium - Metabolic Ratio\n",
    "\n",
    "Below the model is run and the time to equilibrium is calculated by finding the number of timesteps in which a consumer had different concentration values, i.e. had not reached steady state. In this model concentrations do not fluctuate at steady state, they are constant, so any change or difference in concentration mean the steady state has not been reached. Microbes competing for the same resource should take a similar number of timesteps to reach steady state.\n",
    "\n",
    "I calculated the difference in metabolic ratio between competitors, as the more similar they are (i.e. the difference is close to 1) the longer it should take for steady state to be reached. If they are identical so $U_1/R_1$ = $U_2/R_2$ and therefore $U_1/R_1$ / $U_2/R_2$ = 1, steady state should be reached quickly.  \n",
    "\n",
    "This should result in a plot similar to those shown in Section 8 in [the old notebook Competition_traits_model.ipynb](https://nbviewer.jupyter.org/github/e-cavan/Bacteria_Model/blob/master/Code/Old/Competition_traits_model.ipynb). "
   ]
  },
  {
   "cell_type": "code",
   "execution_count": 6,
   "metadata": {},
   "outputs": [
    {
     "data": {
      "image/png": "[encoded data removed]",
      "text/plain": [
       "<Figure size 432x288 with 1 Axes>"
      ]
     },
     "metadata": {
      "needs_background": "light"
     },
     "output_type": "display_data"
    },
    {
     "name": "stdout",
     "output_type": "stream",
     "text": [
      "[15.58364291 14.91595143 15.80433299 15.94138622 16.36635884 15.66845816\n",
      " 15.75891095 15.09274734 15.399013   15.4891073 ]\n",
      "[0.99458688 0.94650902 1.04714752 1.0352213  1.05663668]\n",
      "[ 15.  57.  17.  31. 100.  14.  57.  18.  31.  99.]\n",
      "[18.66263025 18.7632159  18.6314731  18.61260877 18.55635098 18.65053979\n",
      " 18.63780606 18.73560834 18.68946576 18.67628121]\n"
     ]
    },
    {
     "data": {
      "image/png": "[encoded data removed]",
      "text/plain": [
       "<Figure size 432x288 with 1 Axes>"
      ]
     },
     "metadata": {
      "needs_background": "light"
     },
     "output_type": "display_data"
    },
    {
     "data": {
      "image/png": "[encoded data removed]",
      "text/plain": [
       "<Figure size 432x288 with 1 Axes>"
      ]
     },
     "metadata": {
      "needs_background": "light"
     },
     "output_type": "display_data"
    }
   ],
   "source": [
    "# Set up parameters\n",
    "N = 10 # Number of consumers\n",
    "M = 5 # Number of resources\n",
    "\n",
    "# Temperature params\n",
    "k = 0.0000862 # Boltzman constant\n",
    "Tref = 273.15 # Reference temperature Kelvin, 0 degrees C\n",
    "pk = 20 # Peak above Tref, degrees C\n",
    "T_pk = Tref + pk # Peak above Tref, Kelvin\n",
    "Ma = 1 # Mass\n",
    "Ea_D = np.repeat(3.5,N) # Deactivation energy - only used if use Sharpe-Schoolfield temp-dependance\n",
    "t_n = 21 # Number of temperatures to run the model at, model starts at 20\n",
    "\n",
    "# Assembly\n",
    "ass = 1 # Assembly number, i.e. how many times the system can assemble\n",
    "\n",
    "t_fin = 100 # Number of time steps\n",
    "t = sc.linspace(0,t_fin-1,t_fin) # Time steps\n",
    "x0 = np.concatenate((sc.full([N], (0.1)),sc.full([M], (0.1)))) # Starting concentration for resources and consumers\n",
    "typ = 2 # Functional response, Type I or II\n",
    "K = 10 # Carrying capacity, kept constant with temperature\n",
    "\n",
    "# Run the model\n",
    "res, Ut, Rt = bvm.ass_temp_run(t, N, M, t_n,  Tref, Ma, k, ass, x0, t_fin, T_pk , Ea_D,  typ)\n",
    "\n",
    "# Time to equilibrium\n",
    "meta = Ut/Rt # find metabolic ratio for each consumer\n",
    "\n",
    "time = np.array([])   \n",
    "for i in range(N): \n",
    "   c = len(np.unique(res[:,i])) \n",
    "   time = np.append(time, c)\n",
    "    \n",
    "meta_diff = meta[0:M]/meta[M:N]\n",
    "#meta_diff = np.round(abs(1-meta_diff), 4)\n",
    "\n",
    "print(meta)\n",
    "print(meta_diff)\n",
    "print(time)\n",
    "\n",
    "# R*\n",
    "l = 0.4\n",
    "rstar = (Ut*K)/((Ut*(1-l))-Rt)\n",
    "rstar_diff = rstar[0:M]/rstar[M:N]\n",
    "#rstar_diff = np.round(abs(1-rstar_diff), 4)\n",
    "print(rstar)\n",
    "\n",
    "plt.plot(meta_diff, time[0:M],'ko', markersize=4)\n",
    "plt.xlabel('Metabolic Ratio Difference')\n",
    "plt.ylabel('Timesteps to monodominance')\n",
    "plt.show()\n",
    "\n",
    "plt.plot(rstar_diff, time[0:M],'ko', markersize=4)\n",
    "plt.xlabel('R* Difference')\n",
    "plt.ylabel('Timesteps to monodominance')\n",
    "plt.show()\n"
   ]
  },
  {
   "cell_type": "markdown",
   "metadata": {},
   "source": [
    "The plots above suggest there is no impact of  the metabolic ratio or R* on the time it takes for competing pairs to reach steady state. \n",
    "\n",
    "In the old `Competition_traits_model.ipynb` [notebook](https://nbviewer.jupyter.org/github/e-cavan/Bacteria_Model/blob/master/Code/Old/Competition_traits_model.ipynb#2-species-system,-long-simulation-time) the Metabolic Ratio was forced. $U$ was set as in the `Vector_testing_model.py` file, and then in the notebook $R$ (written as $Rm$) calculated based on a predefined $U/R$. The main difference between the model runs is that when using the `Bacteria_vector_modular.py` script, i.e. the most comprehensive version, $U$ and $R$ are calculated as a function of temperature, and $U/R$ is not forced.\n",
    "\n",
    "So the difference in results and not observing a pattern between $U/R$ and time to monodominance/steady state could be due to:  \n",
    "- Model is set up incorrectly in `Bacteria_vector_modular.py`\n",
    "- My analysis of how to find the time to monodominance in this notebook above is not correct\n",
    "- The result found in `Vector_testing_model.py` is not correct\n",
    "- There should not be a relationship between the $U/R$ or $R*$ of different species and the time to monodominance of the competiting pairs.\n",
    "\n",
    "Based on what we understand and the work put into this in 2020, I would think the latter is not true and some part of the coding/model is not quite right. However, I could be wrong!"
   ]
  },
  {
   "cell_type": "markdown",
   "metadata": {},
   "source": [
    "# Next steps\n",
    "\n",
    "- Work out how the time to steady state and completion of community assembly is driven by the differences in function traits between species competing for resources, i.e. the result in Section 8.2 above. Basically, see if this result can work!\n",
    "- Then investigate how assembly time/ time to monodominance/steady state changes with different temperatures.\n",
    "\n",
    "The resulting manuscript should be able to show:\n",
    "- A model with community assembly\n",
    "- Can predict which consumers will co-exist and which wont based on U/R\n",
    "- Can predict how long competiting species will take to reach steady state based on $U\n",
    "- How U/R changes with temperature\n",
    "- How assembly changes when change temperature\n",
    "\n",
    "As a discussion point, elude to how might simulate other kind of disturbances e.g. from pollution."
   ]
  }
 ],
 "metadata": {
  "kernelspec": {
   "display_name": "Python 3",
   "language": "python",
   "name": "python3"
  },
  "language_info": {
   "codemirror_mode": {
    "name": "ipython",
    "version": 3
   },
   "file_extension": ".py",
   "mimetype": "text/x-python",
   "name": "python",
   "nbconvert_exporter": "python",
   "pygments_lexer": "ipython3",
   "version": "3.7.3"
  },
  "toc": {
   "base_numbering": 1,
   "nav_menu": {},
   "number_sections": true,
   "sideBar": true,
   "skip_h1_title": false,
   "title_cell": "Table of Contents",
   "title_sidebar": "Contents",
   "toc_cell": false,
   "toc_position": {},
   "toc_section_display": true,
   "toc_window_display": false
  }
 },
 "nbformat": 4,
 "nbformat_minor": 2
}
