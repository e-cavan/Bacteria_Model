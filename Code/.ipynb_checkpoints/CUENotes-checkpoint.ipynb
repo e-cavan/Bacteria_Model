{
 "cells": [
  {
   "cell_type": "markdown",
   "metadata": {},
   "source": [
    "# Introduction\n",
    "Just an idea of how to incorporate the CUE information as a way to reduce model complexity. "
   ]
  },
  {
   "cell_type": "markdown",
   "metadata": {},
   "source": [
    "# The model\n",
    "So the governing equation for popualtion growth $\\mu$ is: \n",
    "\n",
    "\\begin{equation}\n",
    "    \\frac{1}{C_i}\\frac{dC_i}{dt} = U_i - R_i - L_i - z_i\n",
    "\\end{equation}\n",
    "\n",
    "Where growth rate is given by uptake $U$ minus the losses from respiration $R$, leakage $L$ and mortality $z$. \n",
    "\n",
    "This exact form is problematic as we cannot empirically quantify all the terms. One way to get around this is to use the empirical measurements of CUE ($p_g$) which is given by the equation:\n",
    "\n",
    "\\begin{equation}\n",
    "    {p_g}_i = \\frac{\\mu_i}{\\mu_i + R}\n",
    "\\end{equation}\n",
    "\n",
    "rearranging this to get R:\n",
    "\n",
    "\n",
    "\\begin{equation}\n",
    "    R_i = \\frac{\\mu_i}{{p_g}_i} - \\mu_i\n",
    "\\end{equation}\n",
    "\n",
    "we can substitute it into the orgiginal equation (noting that $\\frac{dC_i}{dt} = \\mu_i$) and rearrange to get:\n",
    "\n",
    "\\begin{align}\n",
    "    \\frac{1}{C_i}\\frac{dC_i}{dt} = \\mu_i &=  U_i - \\frac{\\mu_i}{{p_g}_i} - \\mu_i - L_i - z_i \\\\\n",
    "    \\mu_i &= {p_g}_i (U_i - L_i - z_i)\n",
    "\\end{align}\n",
    "\n",
    "Thus the efficency term should act across the net non-respiratory carbon balance ($U_i - L_i - z_i$) to fit with the definition of the CUE."
   ]
  },
  {
   "cell_type": "markdown",
   "metadata": {},
   "source": [
    "# Multiple species and resources\n",
    "\n",
    "Extending this to the next step we assume there are $N$ species and $M$ resources (denoted by $S_j$). The equations for consumers is then:\n",
    "\n",
    "\\begin{align}\n",
    "    \\frac{dC_i}{dt} = {p_g}_i \\left( \\sum_{j = 0}^{M} u_{ij} S_j \\left(1 - \\sum_{k = 0}^{M} l_{jk}\\right\n",
    "    ) - z \\right)\n",
    "\\end{align}\n",
    "\n",
    "and resources:\n",
    "\n",
    "\\begin{align}\n",
    "    \\frac{dS_j}{dt} = \\rho_j - \\sum_{i = 1}^{N} \\left(u_{ij} S_j C_i  - \\sum_{j \\neq k}^M u_{ij} l_{kj} S_j C_i \\right) \n",
    "\\end{align}"
   ]
  },
  {
   "cell_type": "markdown",
   "metadata": {},
   "source": [
    "Thus the CUE term removes the need for the respiration in the full model, allowing us to parameterise it relative to growth rate. note that we can still get the respiration from the system at any given point using the definition above. "
   ]
  }
 ],
 "metadata": {
  "kernelspec": {
   "display_name": "Python 3",
   "language": "python",
   "name": "python3"
  },
  "language_info": {
   "codemirror_mode": {
    "name": "ipython",
    "version": 3
   },
   "file_extension": ".py",
   "mimetype": "text/x-python",
   "name": "python",
   "nbconvert_exporter": "python",
   "pygments_lexer": "ipython3",
   "version": "3.5.2"
  },
  "latex_envs": {
   "LaTeX_envs_menu_present": true,
   "autoclose": false,
   "autocomplete": false,
   "bibliofile": "biblio.bib",
   "cite_by": "apalike",
   "current_citInitial": 1,
   "eqLabelWithNumbers": true,
   "eqNumInitial": 1,
   "hotkeys": {
    "equation": "Ctrl-E",
    "itemize": "Ctrl-I"
   },
   "labels_anchors": false,
   "latex_user_defs": false,
   "report_style_numbering": false,
   "user_envs_cfg": false
  },
  "toc": {
   "base_numbering": 1,
   "nav_menu": {},
   "number_sections": true,
   "sideBar": true,
   "skip_h1_title": false,
   "title_cell": "Table of Contents",
   "title_sidebar": "Contents",
   "toc_cell": false,
   "toc_position": {},
   "toc_section_display": true,
   "toc_window_display": false
  }
 },
 "nbformat": 4,
 "nbformat_minor": 2
}
