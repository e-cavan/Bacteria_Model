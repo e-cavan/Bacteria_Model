{
 "cells": [
  {
   "cell_type": "markdown",
   "metadata": {},
   "source": [
    "# Ecological Metabolic constraints on the assembly and functioning of bacterial ecosystems <a class=\"tocSkip\">"
   ]
  },
  {
   "cell_type": "markdown",
   "metadata": {
    "toc": true
   },
   "source": [
    "<h1>Table of Contents<span class=\"tocSkip\"></span></h1>\n",
    "<div class=\"toc\"><ul class=\"toc-item\"><li><span><a href=\"#Introduction\" data-toc-modified-id=\"Introduction-1\"><span class=\"toc-item-num\">1&nbsp;&nbsp;</span>Introduction</a></span></li><li><span><a href=\"#The-Model\" data-toc-modified-id=\"The-Model-2\"><span class=\"toc-item-num\">2&nbsp;&nbsp;</span>The Model</a></span><ul class=\"toc-item\"><li><span><a href=\"#The-Bacterial-Population-Growth-Model\" data-toc-modified-id=\"The-Bacterial-Population-Growth-Model-2.1\"><span class=\"toc-item-num\">2.1&nbsp;&nbsp;</span>The Bacterial Population Growth Model</a></span><ul class=\"toc-item\"><li><span><a href=\"#Multiple-carbon-sources\" data-toc-modified-id=\"Multiple-carbon-sources-2.1.1\"><span class=\"toc-item-num\">2.1.1&nbsp;&nbsp;</span>Multiple carbon sources</a></span></li></ul></li><li><span><a href=\"#Resource-dynamics\" data-toc-modified-id=\"Resource-dynamics-2.2\"><span class=\"toc-item-num\">2.2&nbsp;&nbsp;</span>Resource dynamics</a></span></li><li><span><a href=\"#The-final-model\" data-toc-modified-id=\"The-final-model-2.3\"><span class=\"toc-item-num\">2.3&nbsp;&nbsp;</span>The final model</a></span><ul class=\"toc-item\"><li><span><a href=\"#Comparison-to-the-Marsland-model\" data-toc-modified-id=\"Comparison-to-the-Marsland-model-2.3.1\"><span class=\"toc-item-num\">2.3.1&nbsp;&nbsp;</span>Comparison to the Marsland model</a></span></li></ul></li></ul></li><li><span><a href=\"#Parameterizations-and-Constraints\" data-toc-modified-id=\"Parameterizations-and-Constraints-3\"><span class=\"toc-item-num\">3&nbsp;&nbsp;</span>Parameterizations and Constraints</a></span><ul class=\"toc-item\"><li><span><a href=\"#Uptake\" data-toc-modified-id=\"Uptake-3.1\"><span class=\"toc-item-num\">3.1&nbsp;&nbsp;</span>Uptake</a></span></li><li><span><a href=\"#Respiration\" data-toc-modified-id=\"Respiration-3.2\"><span class=\"toc-item-num\">3.2&nbsp;&nbsp;</span>Respiration</a></span></li><li><span><a href=\"#Substrate-leakage-transition\" data-toc-modified-id=\"Substrate-leakage-transition-3.3\"><span class=\"toc-item-num\">3.3&nbsp;&nbsp;</span>Substrate leakage-transition</a></span></li><li><span><a href=\"#Size-and-temperature-dependence-of-parameters/traits\" data-toc-modified-id=\"Size-and-temperature-dependence-of-parameters/traits-3.4\"><span class=\"toc-item-num\">3.4&nbsp;&nbsp;</span>Size and temperature-dependence of parameters/traits</a></span></li></ul></li><li><span><a href=\"#Analysis\" data-toc-modified-id=\"Analysis-4\"><span class=\"toc-item-num\">4&nbsp;&nbsp;</span>Analysis</a></span><ul class=\"toc-item\"><li><span><a href=\"#1-bacterium---1-resource\" data-toc-modified-id=\"1-bacterium---1-resource-4.1\"><span class=\"toc-item-num\">4.1&nbsp;&nbsp;</span>1 bacterium - 1 resource</a></span></li><li><span><a href=\"#2-bacteria---1-resource\" data-toc-modified-id=\"2-bacteria---1-resource-4.2\"><span class=\"toc-item-num\">4.2&nbsp;&nbsp;</span>2 bacteria - 1 resource</a></span></li><li><span><a href=\"#2-bacteria---2-resources\" data-toc-modified-id=\"2-bacteria---2-resources-4.3\"><span class=\"toc-item-num\">4.3&nbsp;&nbsp;</span>2 bacteria - 2 resources</a></span></li><li><span><a href=\"#Running-the-model\" data-toc-modified-id=\"Running-the-model-4.4\"><span class=\"toc-item-num\">4.4&nbsp;&nbsp;</span>Running the model</a></span></li><li><span><a href=\"#Model-solutions\" data-toc-modified-id=\"Model-solutions-4.5\"><span class=\"toc-item-num\">4.5&nbsp;&nbsp;</span>Model solutions</a></span><ul class=\"toc-item\"><li><span><a href=\"#Assuming-no-competition-for-resources\" data-toc-modified-id=\"Assuming-no-competition-for-resources-4.5.1\"><span class=\"toc-item-num\">4.5.1&nbsp;&nbsp;</span>Assuming no competition for resources</a></span><ul class=\"toc-item\"><li><span><a href=\"#Analytical-by-hand\" data-toc-modified-id=\"Analytical-by-hand-4.5.1.1\"><span class=\"toc-item-num\">4.5.1.1&nbsp;&nbsp;</span>Analytical by hand</a></span></li><li><span><a href=\"#Analytical-by-sympy\" data-toc-modified-id=\"Analytical-by-sympy-4.5.1.2\"><span class=\"toc-item-num\">4.5.1.2&nbsp;&nbsp;</span>Analytical by sympy</a></span></li><li><span><a href=\"#Incorporating-temperature\" data-toc-modified-id=\"Incorporating-temperature-4.5.1.3\"><span class=\"toc-item-num\">4.5.1.3&nbsp;&nbsp;</span>Incorporating temperature</a></span></li><li><span><a href=\"#Find-all-possible-equilibria-Bacteria-masses-at-different-Ea-values\" data-toc-modified-id=\"Find-all-possible-equilibria-Bacteria-masses-at-different-Ea-values-4.5.1.4\"><span class=\"toc-item-num\">4.5.1.4&nbsp;&nbsp;</span>Find all possible equilibria Bacteria masses at different Ea values</a></span></li></ul></li><li><span><a href=\"#Assuming-competition-and-varying-resource-inputs\" data-toc-modified-id=\"Assuming-competition-and-varying-resource-inputs-4.5.2\"><span class=\"toc-item-num\">4.5.2&nbsp;&nbsp;</span>Assuming competition and varying resource inputs</a></span><ul class=\"toc-item\"><li><span><a href=\"#Model-simulations\" data-toc-modified-id=\"Model-simulations-4.5.2.1\"><span class=\"toc-item-num\">4.5.2.1&nbsp;&nbsp;</span>Model simulations</a></span></li><li><span><a href=\"#Anayltical-by-sympy\" data-toc-modified-id=\"Anayltical-by-sympy-4.5.2.2\"><span class=\"toc-item-num\">4.5.2.2&nbsp;&nbsp;</span>Anayltical by sympy</a></span></li><li><span><a href=\"#Analytical-by-hand\" data-toc-modified-id=\"Analytical-by-hand-4.5.2.3\"><span class=\"toc-item-num\">4.5.2.3&nbsp;&nbsp;</span>Analytical by hand</a></span></li></ul></li></ul></li><li><span><a href=\"#R*\" data-toc-modified-id=\"R*-4.6\"><span class=\"toc-item-num\">4.6&nbsp;&nbsp;</span>R*</a></span><ul class=\"toc-item\"><li><span><a href=\"#Expressing-size-dependency\" data-toc-modified-id=\"Expressing-size-dependency-4.6.1\"><span class=\"toc-item-num\">4.6.1&nbsp;&nbsp;</span>Expressing size dependency</a></span></li></ul></li><li><span><a href=\"#Context-and-possible-aim\" data-toc-modified-id=\"Context-and-possible-aim-4.7\"><span class=\"toc-item-num\">4.7&nbsp;&nbsp;</span>Context and possible aim</a></span><ul class=\"toc-item\"><li><span><a href=\"#Aim\" data-toc-modified-id=\"Aim-4.7.1\"><span class=\"toc-item-num\">4.7.1&nbsp;&nbsp;</span>Aim</a></span></li></ul></li></ul></li></ul></div>"
   ]
  },
  {
   "cell_type": "markdown",
   "metadata": {},
   "source": [
    "# Introduction\n",
    "\n",
    "How does microbial ecosystem structure and functioning respond to warming and disturbance (e.g. chemical pollution such as pesticides or antibiotics)? \n",
    "\n",
    "We develop a mathematical model to investigate the response of ecosystems/communities of interacting bacterial populations to address this. \n",
    "\n",
    "Here we derive and describe the model, and analyze it with the objective of determining how systems of multiple interacting bacteria with different functional traits (e.g. size, type of response to warming, or the thermal performance curves (TPC) resource preference) are self-organized or \"selected\" by species sorting under different environment conditions. We are particularly interested in which bacterial traits/strategies maximize ecosystem functioning (e.g., carbon flux, biomass production, or total respiration), and which consistently emerge through interaction-driven assembly and turnover dynamics. \n",
    "\n",
    "# The Model\n",
    "\n",
    "The model consists of coupled ODEs representing one or more consumers (bacteria) feeding on one or more carbon resources. The resources are substrates in the from of particulate or dissolved organic carbon substrates (POC and DOC, respectively). Each bacterial population can feed on a specific set of resources, and a portion of any given resource consumed by any given bacterial population is necessarily converted into one or more other resources during the process of sequestration and / or allocation to maintenance and growth by the population. \n",
    "\n",
    "We begin by deriving the multi-species community/ecosystem model from fundamental processes and assumptions. \n",
    "\n",
    "## The Bacterial Population Growth Model\n",
    "\n",
    "We start with the fact that the carbon biomass growth rate ($r$) of the $i^{th}$ bacterial population biomass ($C_i$) must be given by:\n",
    "\n",
    "\\begin{equation*}\n",
    "    \\frac{1}{C_i}\\frac{dC_i}{dt} = r = V F,\n",
    "\\end{equation*}\n",
    "\n",
    "where $F$ (time$^{-1}$) is net carbon flux in/out of the population biomass and $V$ (dimensionless) is a function that accounts for the effects of growth-limiting nutrients such as N & P. $V$ may be represented by the Michaelis-Menten equation\n",
    "\n",
    "\\begin{equation*}\n",
    "V = \\frac{N}{K + N},\n",
    "\\end{equation*}\n",
    "\n",
    "where $K$ is the half-saturation constant and $N$ is the limiting nutrient. We henceforth assume that limiting nutrients are abundantly available in the growth medium, such that $\\lim_{N\\to\\infty} V \\to 1$, i.e., effectively, \n",
    "\n",
    "\\begin{equation}\\label{eq:pop1}\n",
    "    \\frac{1}{C_i}\\frac{dC_i}{dt} = F\n",
    "\\end{equation}\n",
    "\n",
    "(nutrient-unlimited carbon uptake and population growth). Next, we can separate carbon flux $F$ into the gain and loss terms as,\n",
    "\n",
    "\\begin{equation*}\n",
    "    F = U - L - R ,\n",
    "\\end{equation*}\n",
    "\n",
    "where $U$ is the gross carbon uptake rate, $L$ (time$^{-1}$) is carbon loss/release (leakage) rate back into the environment as organic substrate (which ends up as \"POC\" and \"DOC\"; e.g., [Kawasaki & Benner 2006](https://aslopubs.onlinelibrary.wiley.com/doi/abs/10.4319/lo.2006.51.5.2170)), and $R$ is carbon loss rate due to respiration (i.e. as $\\text{CO}_2$). Substituting this equation into the population growth model (eqn \\eqref{eq:pop1}) gives:\n",
    "\n",
    "\\begin{equation}\\label{eq:pop2}\n",
    "    \\frac{1}{C_i} \\frac{dC_i}{dt} = U_i - L_i - R_i \n",
    "\\end{equation}\n",
    "\n",
    "The respiratory carbon loss $R$ can be further partitioned into the cost of maintenance ($R_m$) and that which occurs as a result of growth $R_g$ ([Manzoni & Porporato 2009](https://www.sciencedirect.com/science/article/pii/S0038071709000765)), i.e., $R = R_g + R_m$. Growth respiration  represents the loss of carbon due to the thermodynamic limits (inefficiency) of processing and assimilating carbon sources ([Gommers et al. 1988](https://onlinelibrary.wiley.com/doi/abs/10.1002/bit.260320112)). Maintenance respiration represents the costs of processes such as protein and nucleic acid turnover, osmo-regulation and cell movement ([Chapman & Grey 1986](https://www.sciencedirect.com/science/article/pii/0038071786900957)). In theory, separating these two types of respiration is desirable for two reasons. First, in cells that are not in any sort of stationary phase, $R_m$ is arguably independent of carbon uptake such that carbon loss from maintenance is proportional to the amount of metabolically active biomass, because maintenance activities continue irrespective of whether carbon uptake is occurring. Second, as growth respiration rate is associated with assimilating/allocating carbon into biomass, it should be related to the magnitude of uptake. However, in practice, differentiating between these two types of respiratory carbon losses is impossible because these processes effectively occur simultaneously in the ODE system, the time delay between cessation of uptake and maintenance activities may actually be insignificant, and in any case, the two types of respiration are indistinguishable in typical laboratory experiments.\n",
    "\n",
    "Next, we link carbon leakage $L$ to processes occurring within the cell as \n",
    "\n",
    "\\begin{equation*}\n",
    "L = p_L U,\n",
    "\\end{equation*}\n",
    "\n",
    "where $p_L$ is the proportion of uptaken carbon substrate that is lost. Putting together all the pieces back in eqn \\eqref{eq:pop2} and rearranging, we get\n",
    "\n",
    "\\begin{align} \\label{eq:pop3}\n",
    "    \\frac{1}{C_i}\\frac{dC_i}{dt} &= U_i - p_L U_i - R_i\\\\\n",
    "\\end{align}\n",
    "\n",
    "### Multiple carbon sources\n",
    "\n",
    "Real bacterial populations generally feed on multiple carbon sources. We can represent the uptake of carbon by the $i^{th}$ species feeding on $M$ carbon substrates ($S$) as:\n",
    "\n",
    "\\begin{equation} \\label{eq:uptake}\n",
    "    U_i = \\sum_{j=1}^M u_{ij} S_j,\n",
    "\\end{equation}\n",
    "\n",
    "where $u_{ij}$ (units of $(\\text{mass} \\times \\text{time})^{-1}$) is the per-unit biomass uptake rate of the $j^{th}$ resource. Note that this rate is described by a scalar here, but can be a function of resource availability (such as Type II \"functional response\").\n",
    "\n",
    "Furthermore, leakage of carbon substrates to the environment also occurs via the release of multiple substrates as bacteria break one or more substrates into others, which can be expressed as the sum of losses across $M$ substrates, i.e., for the $j^{th}$ substrate,\n",
    "\n",
    "\\begin{equation}\\label{eq:leakage}\n",
    "p_{L,j} = \\sum\\limits_{k = 1}^M l_{jk}\n",
    "\\end{equation}\n",
    "\n",
    "where $l_{jk}$ represents the proportion of uptake of the $j^{th}$ substrate that is released as the $k^{th}$ substrate, including potentially the substrate itself (when $j = k$) overall reflecting the population's \"carbon allocation efficiency\" ([Garcia-Carreras et al 2018](https://www.pnas.org/content/115/31/E7361.short)). Thus all these conversion factors can be represented as a $M \\times M$ matrix \\textbf{l}. These cross-substrate leakages allow the commonly-seen cross-feeding microbial interactions to be represented in the dynamics. \n",
    "\n",
    "Substituting the above two equations for $U_i$ \\eqref{eq:uptake} and $p_{L,j}$ \\eqref{eq:leakage} into eqn \\eqref{eq:pop3} gives,  \n",
    "\n",
    "\\begin{equation}\n",
    "    \\frac{1}{C_i}\\frac{dC_i}{dt} = \\left(\\sum_{j=1}^M u_{ij} S_j  \\left(1 - \\sum\\limits_{k = 1}^M l_{jk}\\right)\\right) - R_i\n",
    "\\end{equation}\n",
    "\n",
    "## Resource dynamics\n",
    "\n",
    "Given the above model for growth of a bacterial species population, the model for resource dynamics follows fairly naturally from the bacterial dynamics by enforcing mass conservation. That is, the amount of the $j^{th}$ resource in the environment must be determined by the rate at which it enters minus the rate at which it leaves:\n",
    "\n",
    "\\begin{equation}\n",
    "    \\frac{dS_j}{dt} = \\rho_j + \\sum_{i = 1}^N \\sum_{k = 1}^M u_{ik} l_{kj} S_k C_i - \\sum_{i = 1}^N u_{ij} S_j C_i\n",
    "\\end{equation}\n",
    "\n",
    "Here, $\\rho_j$ is a function that determines the net external (abiotic) resource input rate, the rate of gain due to biotic activity (second term with double summation) is the sum, across the $N$ bacterial species, of the sum of $M$ resources released back as the $j^{th}$ one through leakage (eqn \\eqref{eq:leakage}), and the rate of loss as sum of uptake rates across all $N$ species' populations in the bacterial community (eqn \\eqref{eq:uptake}). The function $\\rho_j$ can take various forms; for example, one with a constant resource inflow and dilution rate terms would represent a chemostat system.\n",
    "\n",
    "## The final model\n",
    "\n",
    "Thus, the full model is:\n",
    "\n",
    "\\begin{equation}\n",
    "    \\frac{dC_i}{dt} = C_i\\left(\\sum_{j = 1}^M u_{ij} S_j\\left(1 - \\sum\\limits_{k = 1}^M l_{jk}\\right) - R_i \\right)\n",
    "\\end{equation}\n",
    "\n",
    "\\begin{equation}\n",
    "    \\frac{dS_j}{dt} = \\rho_j + \\sum_{i = 1}^N \\sum_{k = 1}^M u_{ik} l_{kj} S_k C_i - \\sum_{i = 1}^N u_{ij} S_j C_i\n",
    "\\end{equation}\n",
    "\n",
    "\n",
    "### Comparison to the Marsland model\n",
    "\n",
    "Our model is partly motivated and has many of the elements of the mathematical model proposed by [Marsland et al. (2019)](https://journals.plos.org/ploscompbiol/article?id=10.1371/journal.pcbi.1006793), which is itself based on the seminal Rosenzweig-MacArthur consumer-resource equations. The  Marsland et al (2019) model is:\n",
    "\n",
    "\\begin{equation}\n",
    "\\frac{dC_i}{dt} = g_i C_i\\left(\\sum_{j=1}^{M} w_j \\sigma u_{ij} S_j\\left(1 -\\sum_{k=1}^{M}l_{jk}\\right) - R_i\\right)\n",
    "\\end{equation}\n",
    "\n",
    "\\begin{equation}\n",
    "\\frac{dS_j}{dt} = \\rho_j + \\sum_{i=1}^{N}\\sum_{k=1}^{M}\\sigma u_{ij} l_{kj} S_j C_i - \\sum_{i=1}^{N}\\sigma u_{ij}S_j C_i\n",
    "\\end{equation}\n",
    "\n",
    "Here, $g_i$ is the proportional constant between per capita growth rate and energy flux, $w_j$ is the energy density of resource $j$ (units are energy/mass) and $\\sigma$ is the functional response (units mass/time).\n",
    "\n",
    "The differences between the current and Marsland's model are:\n",
    "\n",
    "1. We do not consider energy density of resource ($w_j$) <span class=\"mark\">because...</span> \n",
    "* We do not consider the constant between growth and energy flux ($g_i$) <span class=\"mark\">because...</span> \n",
    "* Marsland et al specify $\\rho_j$ = 0 except for $\\rho_0$, and $\\rho_j$ is a chemostat function. So only the first resource has an external input which then diversifies. In our model all resources have an input and there is no dilution (so not a chemostat) <span class=\"mark\">because...</span> .\n",
    " "
   ]
  },
  {
   "cell_type": "markdown",
   "metadata": {},
   "source": [
    "# Parameterizations and Constraints\n",
    "\n",
    "So there are 3 key sets of parameters needed for this model:\n",
    "\n",
    "1. Substrate uptake values (and the resulting uptake matrix)\n",
    "* Substrate transition/leakage values (an the resulting transition matrix)\n",
    "* Respiration rates\n",
    "\n",
    "We now consider the issue of obtaining values or estimates for each of these parameters.\n",
    "\n",
    "## Uptake\n",
    "\n",
    "We cannot really obtain estimates of uptake directly. Temperature should directly affect uptake as it is related to the activity of enzymes and the transport of organic molecules across the cell wall; at a minimum the rate of passive diffusion should increase. It's hard to know how to parameterise this for all species $\\times$ substrate combinations, so we will use lab experimental data on temperature dependence of maximal growth rates (e.g.,  Tom Smith's work), which are typically under nutrient-unlimited, and carbon substrate replete conditions. \n",
    "\n",
    "In addition, there is some evidence that microbes switch metabolic pathways with temperature. This could be represented by alteration of the relative uptake rates. In terms of structure of the uptake matrix, we can vary the nestedness of the interactions (changing the strength of interaction in the community).\n",
    "\n",
    "\n",
    "##  Respiration\n",
    "\n",
    "There is a fairly large body of work considering the microbial maintenance and growth respiration, with numerous models and experiments aiming to understand its dynamics. [Gommers et al. (1988)](https://onlinelibrary.wiley.com/doi/abs/10.1002/bit.260320112) estimate that around $12\\%-29\\%$ of substrate is released as $CO_2$ during metabolism. For temperature dependence, we can use the extensive lab data taht are available in BioTraits (and Tom Smith's work). \n",
    "\n",
    "## Substrate leakage-transition\n",
    "\n",
    "The $M \\times M$ substrate leakage-transition matrix \\textbf{l} is impossible to parameterize directly given current state of knowledge. But we can make some assumptions about its structure.\n",
    "\n",
    "Firstly we can assume that its entries are independent of temperature. As this parameter represents the conversion of the uptake of one form of carbon into others it will be constrained by the biochemical pathways that are used in the metabolism of the carbon source. Thus, unless the metabolic pathways change themselves with temperature (<span class=\"mark\">there actually some evidence for this :(</span> ) the entries of $l$ will remain the same.\n",
    "\n",
    "We can also make some assumptions about the structure of \\textbf{l}. As the transitions between carbon sources represent biochemical reactions we can assume some kind of directionality in the reactions as complex substrates are broken down into more simple ones. This can be interpreted in terms of the entropy production in these reactions.\n",
    "\n",
    "The following table lists the constraints on the parameters and variables (nutrients and bacteria). \n",
    "\n",
    "| Parameter/Variable |Symbol| Matrix/Vector dimension | Units | Constraint | Temperature/Size-dependence | Initial value |\n",
    "|---|---|---|---|---|---|---|\n",
    "|Bacterial (Consumer) abundance                   |$C_i$      |   vector $(i,)$ | mass         | >0  | NA | 0.1 |\n",
    "|Resource abundance                               |$R_j$      | vector $(j,)$ | mass         | >0  | NA | 1  |\n",
    "|External supply of $j^{th}$ resource             |$\\rho_j$ | vector $(,j)$ | mass $\\times$ time$^{-1}$     | >0  | no | 1 |\n",
    "|Uptake of $j^{th}$ Resource by $i^{th}$ consumer |$u_{ij}$ | matrix $(i,j)$ | (mass $\\times$ time)$^{-1}$ |>0 | yes | 1 |\n",
    "|Respiration rate of $i^{th}$ consumer     |$R_i$   | vector $(i,)$ | time$^{-1}$        | >0, <1| yes | 0.5 |\n",
    "|leakage and transformation of $j^{th}$ to $k^{th}$ resource       | $l_{jk}$ | matrix $(j,k)$ | 1  | <1  | no | 0.4 |\n",
    "\n",
    "<span class=\"mark\">There is an additional condition, that total excretion must not sum to 1 or more ($\\sum l_{jk} < 1$) for any bacterial species, because otherwise no carbon is gained by the bacteria.</span>\n",
    "\n",
    "## Size and temperature-dependence of parameters/traits\n",
    "\n",
    "In the above model only $u_{ij}$ and $R_i$ can be temperature- and size-dependent as they are the only terms that explicitly depend on an individual consumer $i$. Temperature- and size-dependency are formulated following the Metabolic Theory of Ecology and the Sharpe-Schoolfield equation. Such that:\n",
    "\n",
    "\n",
    "\\begin{equation}\n",
    "u_{ij} = B_{u}M^{-0.25} * \\frac{e^{\\frac{-Ea}{k}\\cdot\\left(\\frac{1}{T} - \\frac{1}{T_{ref}}\\right)}}{1 + \\frac{Ea}{E_D - Ea}\\cdot e^{\\frac{-E_D}{k}\\cdot\\left(\\frac{1}{T_{pk}} - \\frac{1}{T}\\right)}} \\tag{11}\n",
    "\\end{equation}\n",
    "\n",
    "\\begin{equation}\n",
    "R_{m,i} = B_{rm}M^{-0.25} * \\frac{e^{\\frac{-Ea}{k}\\cdot\\left(\\frac{1}{T} - \\frac{1}{T_{ref}}\\right)}}{1 + \\frac{Ea}{E_D - Ea}\\cdot e^{\\frac{-E_D}{k}\\cdot\\left(\\frac{1}{T_{pk}} - \\frac{1}{T}\\right)}} \\tag{12}\n",
    "\\end{equation}\n",
    "\n",
    "where $BM^{-0.25}$ is the mass ($M$) scaled to $3/4$ / M = $M^{-0.25}$ multiplied by a constant that is higher for uptake ($u_{ij}$) than maintenance respiration ($R_{m,i}$). The second part of the equation is the Sharpe-Schoofield equation where $Ea$ is the activation energy in eV, $E_D$ is the deactivation energy after the temperature maximum metabolism is reached ($T_{pk}$), $T$ is the temperature and $T_{ref}$ is the reference temperature. All temperatures are expressed in Kelvin (K) and $k$ is the Boltzmann constant of $8.62 x 10^{-5} eV K^{-1}$."
   ]
  },
  {
   "cell_type": "markdown",
   "metadata": {},
   "source": [
    "# Analysis\n",
    "\n",
    "To gain some mechanistic/analytical insights, we begin the analysis with some simple ecosystems.\n",
    "\n",
    "## 1 bacterium - 1 resource \n",
    "\n",
    "\n",
    "## 2 bacteria - 1 resource \n",
    "\n",
    "## 2 bacteria - 2 resources \n",
    "\n",
    "The system is:\n",
    "\n",
    "\\begin{equation}\n",
    "    \\frac{dC_1}{dt} = C_1 \\left((u_{11} S_1 (1 - Rg_1 - (l_{12} + l_{21})) + u_{12} S_2 (1 - Rg_2 - (l_{21} + l_{12}))) - R_{m,1} \\right)\n",
    "\\end{equation}\n",
    "\n",
    "\\begin{equation}\n",
    "   \\frac{dC_2}{dt} = C_2 \\left((u_{21} S_1 (1 - Rg_1 - (l_{12} + l_{21})) + u_{22} S_2(1 - Rg_2 - (l_{21} + l_{12}))) - R_{m,2} \\right) \n",
    "\\end{equation}\n",
    "\n",
    "\\begin{equation}\n",
    "    \\frac{dS_1}{dt} = \\rho_1 - \\left((C_1 u_{11} S_1 - (C_1 u_{11} S_1 l_{21} + C_1 u_{11} S_1 l_{12})) + (C_2 u_{21}S_1-   (C_2 u_{21} S_1 l_{21} + C_2 u_{21} S_1 l_{12}))\\right)\n",
    "\\end{equation}\n",
    "\n",
    "\\begin{equation}\n",
    "    \\frac{dS_2}{dt} = \\rho_2 - \\left((C_1 u_{12} S_2 - (C_1 u_{12} S_2 l_{12} + C_1 u_{12} S_2 l_{21})) + (C_2 u_{22} S_2 - (C_2 u_{22} S_2 l_{12} + C_2 u_{22} S_2 l_{21}))\\right)\n",
    "\\end{equation}"
   ]
  },
  {
   "cell_type": "markdown",
   "metadata": {},
   "source": []
  },
  {
   "cell_type": "markdown",
   "metadata": {},
   "source": [
    "## Running the model\n",
    "\n",
    "Below imports code from the 'Vector_Testing_model.py' file which is a simpler version of the full (multiple temperatures and assembly) model file of 'Bacteria_vector_model.py'.\n",
    "\n",
    "At the moment you can't update the parameters here (even if I add include the code in this notebook). It is a problem I had previously and is likely something to do with the structure of my .py files."
   ]
  },
  {
   "cell_type": "code",
   "execution_count": 7,
   "metadata": {},
   "outputs": [
    {
     "name": "stdout",
     "output_type": "stream",
     "text": [
      "[1.75778122 1.75778122 1.75778122 1.75778122 1.75778122 0.55157939\n",
      " 0.55157939 0.55157939 0.55157939 0.55157939 0.33333333 0.33333333\n",
      " 0.33333333 0.33333333 0.33333333 0.33333333 0.33333333 0.33333333\n",
      " 0.33333333 0.33333333]\n"
     ]
    },
    {
     "data": {
      "image/png": "[encoded data removed]",
      "text/plain": [
       "<Figure size 432x288 with 1 Axes>"
      ]
     },
     "metadata": {
      "needs_background": "light"
     },
     "output_type": "display_data"
    }
   ],
   "source": [
    "import Vector_Testing_model as vtm\n",
    "import matplotlib.pylab as plt\n",
    "from matplotlib.lines import Line2D\n",
    "from scipy.integrate import odeint\n",
    "import numpy as np\n",
    "import scipy as sc\n",
    "\n",
    "# Set up parameters\n",
    "N = 10\n",
    "M = 10\n",
    "t_fin = 100\n",
    "k = 0.0000862\n",
    "Tref = 273.15 # 0 degrees C\n",
    "pk = 20 # \n",
    "T_pk = Tref + pk\n",
    "B_g = 0.5 # B0 for growth (uptake)\n",
    "B_rm = 0.1 # B0 for mainternace respirations\n",
    "Ma = 1 # Mass\n",
    "T = 273.15 + 20\n",
    "Ea = np.concatenate([np.repeat(0.6,N/2), np.repeat(1.0,N/2)])\n",
    "Ea_D = np.repeat(3.5,N) # Deactivation energy\n",
    "t_fin = 100\n",
    "t = sc.linspace(0,t_fin-1,t_fin)\n",
    "U = vtm.params(N, M, T, k, Tref, T_pk, B_g, B_rm,Ma, Ea, Ea_D)[0]\n",
    "Rm = vtm.params(N, M, T, k, Tref, T_pk, B_g, B_rm,Ma, Ea, Ea_D)[1] \n",
    "Rg = vtm.params(N, M, T, k, Tref, T_pk, B_g, B_rm,Ma, Ea, Ea_D)[2] # l + Rg must be less than 1\n",
    "l = vtm.params(N, M, T, k, Tref, T_pk, B_g, B_rm,Ma, Ea, Ea_D)[3]\n",
    "p = vtm.params(N, M, T, k, Tref, T_pk, B_g, B_rm,Ma, Ea, Ea_D)[4]\n",
    "l_sum = np.sum(l, axis=1)\n",
    "x0 = np.concatenate((sc.full([N], (0.1)),sc.full([M], (1.0))))\n",
    "pars = (U, Rm, Rg, l, p, l_sum, Ea, Ea_D, N, M, T, Tref, B_rm, B_g, Ma)\n",
    "\n",
    "# Run model\n",
    "pops = odeint(vtm.metabolic_model, y0=x0, t=t, args = pars)\n",
    "print(pops[t_fin-1,:])\n",
    "\n",
    "#### Plot output ####\n",
    "t_plot = sc.linspace(0,100,100)\n",
    "plt.plot(t, pops[:,0:N], 'g-', label = 'Consumers', linewidth=0.7)\n",
    "plt.plot(t, pops[:,N:N+M], 'b-', label = 'Resources', linewidth=0.7)\n",
    "plt.grid\n",
    "plt.ylabel('Population density')\n",
    "plt.xlabel('Time')\n",
    "plt.title('Bacteria-Nutrients population dynamics')\n",
    "plt.legend([Line2D([0], [0], color='green', lw=2), Line2D([0], [0], color='blue', lw=2)], ['Bacteria', 'Nutrients'])\n",
    "plt.show()"
   ]
  },
  {
   "cell_type": "markdown",
   "metadata": {},
   "source": [
    "## Model solutions\n",
    "\n",
    "### Assuming no competition for resources\n",
    "\n",
    "#### Analytical by hand\n",
    "\n",
    "The solutions for bacteria at equilibrium are using parameterisation in the above code for the first 5 bacteria where where $Ea$ = 0.6 resulting in $U$ = 2.84 and $Rm$ = 0.57, $Rg$ = 0, $l$ = 0.4 and $\\rho$ = 1:\n",
    "\n",
    "\n",
    "\\begin{equation}\n",
    "C = \\frac{\\rho(1 - Rg - l)}{Rm(1-l)} = \\frac{1(1 - 0 - 0.4)}{0.57(1-0.4)} = 1.75 \\tag{9} \n",
    "\\end{equation}\n",
    "\n",
    "and for resources are:\n",
    "\n",
    "\n",
    "\\begin{equation}\n",
    "S = \\frac{Rm}{u(1-Rg-l)} = \\frac{0.57}{2.84(1-0-0.4)} = 0.33 \\tag{10}\n",
    "\\end{equation}"
   ]
  },
  {
   "cell_type": "markdown",
   "metadata": {},
   "source": [
    "#### Analytical by sympy"
   ]
  },
  {
   "cell_type": "code",
   "execution_count": 11,
   "metadata": {},
   "outputs": [
    {
     "name": "stdout",
     "output_type": "stream",
     "text": [
      "[-Rm/(u*(Rg + Rm - 1))]\n",
      "[-rho/(S*u*(Rm - 1))]\n",
      "[(rho*(Rg + Rm - 1)/(Rm*(Rm - 1)), -Rm/(u*(Rg + Rm - 1)))]\n"
     ]
    }
   ],
   "source": [
    "from sympy import *\n",
    "u, S, Rg, Rm,l, Rm, C, rho, t = var(\"u,  S, Rg, l,Rm, Rm, C,  rho,t\",real = True)\n",
    "\n",
    "dC_dt = C * ((u * S * (1-Rg-l)) - Rm)\n",
    "dS_dt = rho - ((u * S * C) - (u * S * C * l))\n",
    "dC_dt, dS_dt\n",
    "C_eqlb = Eq(dC_dt, 0)\n",
    "S_eqlb = Eq(dS_dt, 0)\n",
    "C_eqlb, S_eqlb\n",
    "C_eqlb_sol = solve(C_eqlb, S)\n",
    "S_eqlb_sol = solve(S_eqlb, C)\n",
    "print(C_eqlb_sol);print(S_eqlb_sol); print(solve((C_eqlb,S_eqlb), C,S))\n"
   ]
  },
  {
   "cell_type": "markdown",
   "metadata": {},
   "source": [
    "The sympy results are different to the 'hand'-solved solutions and result in C= 1.75 and S = 0.47, so the C follows the simulations and my solution but the S does not ????"
   ]
  },
  {
   "cell_type": "markdown",
   "metadata": {},
   "source": [
    "#### Incorporating temperature\n",
    "\n",
    "The solutions for bacteria at equilibrium where the Arrhenius equation is used (i.e. no Tpk):\n",
    "\n",
    "\\begin{equation}\n",
    "C = \\frac{\\rho(1 - Rg - l)}{B_{Rm}M^{-0.25}e^{(-Ea/k)(\\frac{1}{T} - \\frac{1}{T_{ref}})}\n",
    "(1-l)} \\tag{13} \n",
    "\\end{equation}\n",
    "\n",
    "and for resources are:\n",
    "\n",
    "<span class=\"mark\">\\begin{equation}\n",
    "S = \\frac{B_{rm}M^{-0.25}e^{(-Ea/k)(\\frac{1}{T} - \\frac{1}{T_{ref}})}}{B_{u}M^{-0.25}e^{(-Ea/k)(\\frac{1}{T} - \\frac{1}{T_{ref}})}(1-Rg-l)} =  \\frac{B_{rm}}{B_{u}(1-Rg-l)}\\tag{14}\n",
    "\\end{equation}\n",
    "\n",
    "Resource ($S$) is independent of $Ea$ and individual functional traits aside from $B0$</span>\n",
    "\n",
    "#### Find all possible equilibria Bacteria masses at different Ea values\n",
    "\n",
    "Rearranging Equation 11 yields:\n",
    "\n",
    "\\begin{equation}\n",
    "Ea = \\frac{kln\\left(\\frac{\\rho(1-Rg-l)}{CB_{Rm}M^{-0.25}(1-l)}\\right)}{\\frac{1}{T} - \\frac{1}{T_{ref}}} \\tag{15}\n",
    "\\end{equation}"
   ]
  },
  {
   "cell_type": "code",
   "execution_count": 12,
   "metadata": {},
   "outputs": [
    {
     "data": {
      "image/png": "[encoded data removed]",
      "text/plain": [
       "<Figure size 432x288 with 1 Axes>"
      ]
     },
     "metadata": {
      "needs_background": "light"
     },
     "output_type": "display_data"
    }
   ],
   "source": [
    "k = 0.0000862; Rg = 0; l = 0.4; T = 293.15; Tref = 273.15; Ma = 1; B_rm = 0.1; p=1\n",
    "\n",
    "C = sc.linspace(0.001,10,100) # Bacteria\n",
    "Ea = -(k * np.log((p * (1-Rg-l))/ (C * B_rm * Ma**-0.25 * (1-l))))/((1/T)-(1/Tref)) # Ea\n",
    "\n",
    "from sklearn import linear_model\n",
    "lm = linear_model.LinearRegression()\n",
    "model = lm.fit(Ea.reshape(-1,1),np.log(C)) # run linear model\n",
    "\n",
    "Ea1 = sc.linspace(0,4,100) # predict for plotting, Ea (x values)\n",
    "C1 = np.exp(lm.intercept_ + (Ea1 * lm.coef_)) # predict for plotting, C (y values)\n",
    "\n",
    "# Plot\n",
    "plt.plot(Ea1, C1, 'g-', label = 'Consumers', linewidth=1.7)\n",
    "plt.grid\n",
    "plt.ylabel('Bacteria Biomass')\n",
    "plt.xlabel('Activation Energy')\n",
    "plt.show()"
   ]
  },
  {
   "cell_type": "markdown",
   "metadata": {},
   "source": [
    "Bacteria with higher Eas have lower mass, unless competing...see below."
   ]
  },
  {
   "cell_type": "markdown",
   "metadata": {},
   "source": [
    "### Assuming competition and varying resource inputs\n",
    "\n",
    "#### Model simulations\n",
    "\n",
    "Aims are to determine equilibria values of bacteria ($C$) when (a) $Ea$ for all bacteria is the same and (b) $Ea$ is different for both bacteria, under different scenarios:\n",
    "1. Bacteria are not competiting for resources, i.e. M = N ($\\rho$, external input, is set to 1 for all resources)\n",
    "2. Bacteria are competiting for resources, i.e. M = N/2 ($\\rho$ is set to 1 for all resources)\n",
    "3. $\\rho$ is set to 1 for $\\rho_0$ (the first resource) and to 0 for the rest for M = N (i.e. cross-feeding becomes important)\n",
    "4. $\\rho$ is 0 for all resources for M = N\n",
    "\n",
    "$Ea$ = 0.6 and 1.0  \n",
    "$Ea_D$ = 3.5  \n",
    "$T$ = 293.15  \n",
    "$Tref$ = 273.15  \n",
    "$k$ = 0.0000862  \n",
    "$Ma$ = 1  \n",
    "$U$ = 2.8 and 9.1  \n",
    "$Rm$ = 0.56 and 1.8  \n",
    "$Rg$ = 0  \n",
    "$l$ = 0.4  \n",
    "$B_{rm}$ = 0.1  \n",
    "$B_g$ = 0.5  \n",
    "$\\rho$ = 1  \n",
    "\n",
    "Only for Scenarios 1a & b does the model result match the analytical solution. Note in scenario a) $Ea$ = 0.6 eV for both bacteria and in scenario b) $Ea$ = 0.6 eV for C1 and 1.0 eV for C2. Below C1 and C2 refer to bacteria and S1 and S2 to resources:\n",
    "\n",
    "|Scenarios | C1 | C2 | S1 | S2 | Notes|\n",
    "|---|---|---|---|---|---|\n",
    "|1a | 1.76 | 1.76 | 0.33 | 0.33 | C and S same as analytical solution (M = N, $\\rho$ = c(1,1), Ea = c(0.6,0.6)|\n",
    "|1b | 1.76 | 0.55 | 0.33 | 0.33 | C and S Same as analytical solution (M = N,$\\rho$ = c(1,1), Ea = c(0.6,1.0)|\n",
    "|2a | 0.88 | 0.88 | 0.33 | NA | C1 and C2 are half of analytical solution, i.e. 1.76/2 = 0.88 (M = N/2, $\\rho$ = c(1), Ea = c(0.6,0.6)|\n",
    "|2b | 0.17 | 0.50 | 0.33 | NA | C1 and C2 are different to analytical solution and here the higher $Ea$ (C2) 'wins'  (M = N/2, $\\rho$ = c(1), Ea = c(0.6,1.0)|\n",
    "|3a | 1.26 | 0.50 | 0.33 | 0.33 | C1 = 72 % and C2 = 28 % of analytical solution, the C that has access to a resource with an external supply wins, S1 and S2 same as solution (M = N, $\\rho$ = c(1,0), Ea = c(0.6,0.6)|\n",
    "|3b | 1.26 | 0.16 | 0.33 | 0.44 | Different to analytical solution, the C with a resource with an external supply 'wins' (M = N, $\\rho$ = c(1,0), Ea = c(0.6,1.0)|\n",
    "|4a | 0.00 | 0.00 | 0.04 | 0.04 | Analytical solution predicts C correctly but not S (M = N, $\\rho$ = c(0,0), Ea = c(0.6,0.6)|\n",
    "|4b | 0.00 | 0.00 | 0.09 | 0.15 | Analytical solution predicts C correctly but not S (M = N, $\\rho$ = c(0,0), Ea = c(0.6,1.0)|\n",
    "\n",
    "\n",
    "##### Conclusions of model simulation equlibria\n",
    "* When the bacteria do not compete for resources (i.e. N = M as per Scenario 1a & b) the analytical solutions of all C and S match the model. As per the vectorised simulations (results of Jan/Feb 2020) the lowest $Ea$ value (0.6 eV comapred to 1.0 eV) 'wins' with a higher bacterial mass.\n",
    "* When the bacteria do not compete (N = M) and have the same $Ea$ (Scenario 2a) the equilibria bacterial mass can be found by dividing the analystical solution by 2. This is constant across all $Eas$. When the $Ea$ are different, there is no obvious connection between the simulated and analytical equilibria. Further, the highest $Ea$ has the highest bacteria mass which contradicts all previous work and runs of the vectorised model.\n",
    "* When bacteria do not compete but only one has access to an external resource input (Scenario 3a) then the bacterial mass is 72 \\% of the analytical solution when $\\rho$ = 1 and 28 % of the solution when $\\rho$ = 0. This is when the $Ea$ are the same. When the $Ea$ are different (Scenario 3b), the one with the resource input wins and as of yet there is no relationship between the bacteria with 0 external input of resources and the analytical solution but could be related to the relative difference in $Ea$.\n",
    "* When there are no external resource inputs all bacteria die as predicted by the analytical solution but the solution cannot predict the resource mass. It is unlikely this scenario (Scenario 4a or b) will be relevant in nature.\n",
    "\n",
    "**When not competiting for resources the lowest Ea wins, when competiting for resources the highest Ea wins**\n",
    "\n",
    "**When only one resources has an external input then that resource wins, although others with a higher $Ea$ will do well too. Further down the chain the nutrients become depleted - is this representative of a natural system?**\n",
    "\n",
    "**Perhaps to introduce cross-feeding we make different functional groups which have one external nutrient and they cross feed amongst themselves - a chain is not realistic of nature**\n",
    "\n",
    "**Unless some resources have $\\rho$ = 0, then there is no extinction**"
   ]
  },
  {
   "cell_type": "markdown",
   "metadata": {},
   "source": [
    "#### Anayltical by sympy"
   ]
  },
  {
   "cell_type": "code",
   "execution_count": 13,
   "metadata": {},
   "outputs": [
    {
     "name": "stdout",
     "output_type": "stream",
     "text": [
      "[-Rm1/(u1*(Rg - 1))]\n",
      "[-Rm2/(u2*(Rg - 1))]\n",
      "[(-C2*S*u2 + rho)/(S*u1)]\n",
      "[(0, -rho*(Rg - 1)/Rm2, -Rm2/(Rg*u2 - u2)), (-rho*(Rg - 1)/Rm1, 0, -Rm1/(Rg*u1 - u1))]\n"
     ]
    }
   ],
   "source": [
    "from sympy import *\n",
    "import scipy as sc\n",
    "u1, u2, S, Rg, Rm1, Rm2, C1, C2,rho, t = var(\"u1, u2, S, Rg, Rm1, Rm2, C1, C2, rho,t\",real = True)\n",
    "\n",
    "dC1_dt = C1 * ((u1 * S * (1-Rg)) - Rm1)\n",
    "dC2_dt = C2 * ((u2 * S * (1-Rg)) - Rm2)\n",
    "dS_dt = rho - ((u1 * S * C1) + (u2 * S * C2))\n",
    "dC1_dt, dC2_dt, dS_dt\n",
    "C1_eqlb = Eq(dC1_dt, 0)\n",
    "C2_eqlb = Eq(dC2_dt, 0)\n",
    "S_eqlb = Eq(dS_dt, 0)\n",
    "C1_eqlb,C2_eqlb, S_eqlb\n",
    "C1_eqlb_sol = solve(C1_eqlb, S)\n",
    "C2_eqlb_sol = solve(C2_eqlb, S)\n",
    "S_eqlb_sol = solve(S_eqlb, C1)\n",
    "print(C1_eqlb_sol);print(C2_eqlb_sol); print(S_eqlb_sol); print(solve((C1_eqlb,C2_eqlb, S_eqlb), C1,C2,S))\n"
   ]
  },
  {
   "cell_type": "markdown",
   "metadata": {},
   "source": [
    "Using the same paramterisations as above (E for C1 = 0.6 and E for C2 = 1.0) and assuming M = N/2 the solutions are:\n",
    "\n",
    "C1 = 0, C2 = 0.55, S1 = 0.2 and\n",
    "\n",
    "C1 = 1.76, C2 = 0, S1 = 0.2"
   ]
  },
  {
   "cell_type": "markdown",
   "metadata": {},
   "source": [
    "#### Analytical by hand\n",
    "\n",
    "I get the same results from my solving:\n",
    "\n",
    "\\begin{equation}\n",
    "C1 = \\frac{\\frac{\\rho Rm1(1 - Rg)}{Rm2}- \\rho U1(1-Rg)}{U1} = 1.76 \\tag{16} \n",
    "\\end{equation}\n",
    "\n",
    "\\begin{equation}\n",
    "C2 = \\frac{\\frac{\\rho Rm2(1 - Rg)}{Rm1}- \\rho U2(1-Rg)}{U2} = 0.55 \\tag{17} \n",
    "\\end{equation}\n",
    "\n",
    "\n",
    "However this is correct for when M = N and not M=N/2"
   ]
  },
  {
   "cell_type": "markdown",
   "metadata": {},
   "source": [
    "------------------------\n",
    "\n",
    "------------------------\n",
    "\n",
    "------------------------\n",
    "\n",
    "------------------------\n",
    "\n",
    "------------------------\n",
    "\n",
    "------------------------\n",
    "\n",
    "------------------------\n",
    "\n",
    "------------------------\n",
    "\n",
    "------------------------\n",
    "\n",
    "------------------------"
   ]
  },
  {
   "cell_type": "markdown",
   "metadata": {},
   "source": [
    "## R*\n",
    "\n",
    "To determine which species will win we can calculate the $R*$, the amount of resource needed for a species to remain at equilibrium. To do this we insert the equilbrium equation for bacteria ($C$, Eq 9) into the equation for bacteria ($C$, Eq 1) and solve for S:\n",
    "\n",
    "\\begin{equation}\n",
    "0 = \\frac{uS\\rho(1 - Rg - l)(1-Rg-l)}{Rm(1-l)} - Rm \n",
    "\\end{equation}\n",
    "\n",
    "\\begin{equation}\n",
    "uS\\rho(1 - Rg - l)^2 = Rm^2(1-l) \n",
    "\\end{equation}\n",
    "\n",
    "\\begin{equation}\n",
    "R*  = \\frac{Rm^2(1-l)}{u\\rho(1 - Rg - l)^2} \\tag{18}\n",
    "\\end{equation}\n",
    "\n",
    "\n",
    "Both nutrient uptake ($u$) and maintenance respiration ($Rm$) can be used to define functional groups based on their temperature dependencies.\n"
   ]
  },
  {
   "cell_type": "markdown",
   "metadata": {},
   "source": [
    "- When T = T_pk the difference in R* between different individuals is largest.\n",
    "- Groups with lower $Ea$ have competitive advantage\n",
    "- The assembly model (below) selects for species with low $Ea$\n",
    "\n",
    "\n",
    "![alt text](R*_20C.png)\n",
    "\n",
    "<!--- Plotting bacteria mass against R* for the structured and random preference matrix gives:--->\n",
    "\n",
    "\n",
    "<!--- ![alt text](B_vs_R_struct.png)--->\n",
    "\n",
    "<!--- ![alt text](B_vs_R_rand1.png)--->\n",
    "\n",
    "<!--- Where purple = low temperature and yellow = high temperature. Green is T_pk (20 C) which gives highest R* and B.--->\n",
    "\n",
    "\n",
    "<!--- Also, when randomly sharing nutrients do not have same mass of nutrient that their competition (see nutrient (N_num) #8 in table).--->\n",
    "<!--- ![alt text](preview_data.png)--->\n"
   ]
  },
  {
   "cell_type": "markdown",
   "metadata": {},
   "source": [
    "### Expressing size dependency\n",
    "\n",
    "It is uncertain whether size would increase fitness/population size in bacteria. This is because a larger size could increase genome increasing growth rate, but could also increase maintenance respiration ($R_{m,i}$) which would negatively impact on growth rates and population size. Instead of forcing size to have a positive or negative impact on population size both these relationships can be incorporated into the model. As body size increases, $u_{ij}$ will rise, increasing uptake and have a positive impact on population growth. $R_{m,i}$ will also increase with body size, but this is a loss term from the bacteria consumer so decreases overall population growth. $B$ for $u_{ij}$ (growth, $Bg$) will be higher than for $R_{m,i}$ (respiration, $Brm$)."
   ]
  },
  {
   "cell_type": "markdown",
   "metadata": {},
   "source": [
    "## Context and possible aim\n",
    "\n",
    "### Aim\n",
    "Publish a model that can predict which functional groups (>2, i.e. complex communities) will win/immigrate in novel environmental conditions caused by warming. Show how R* varies with temperature sensitivity (Ea and Tpk)\n",
    "\n",
    "In this laboratory study [(Jiang & Moran 2004)](https://besjournals.onlinelibrary.wiley.com/doi/full/10.1111/j.0021-8790.2004.00830.x) two cilitates are grown independently at different temperatures they grow without an issue (data not shown). When they grow together at different temperatures one (the specialist, closed points) out-competes the other (the generalist, open points) at intermediate temperatures. \n",
    "\n",
    "![alt text](Cilitates.png)\n",
    "\n",
    "Also see 'Our model system illustrates that horizontal (competition) and vertical (enemy–victim) interactions and dispersal markedly affect the distributions and abundances of species. Because these factors are omnipresent in nature, predicting changes in distribution and abundance under global warming by extrapolation of the climate envelope may lead to serious errors' from [(Davis et al 1998)](https://www.nature.com/articles/35842). \n",
    "\n",
    "And 'The species interaction mechanism both helps to explain why many treelines have not advanced in response to climatic warming and highlights that predictions of treeline shifts based solely on climate may be misleading, because interspecific interactions can temper effects of climatic change'. [(Liang et al 2016)](https://www.pnas.org/content/113/16/4380.short)"
   ]
  }
 ],
 "metadata": {
  "kernelspec": {
   "display_name": "Python 3",
   "language": "python",
   "name": "python3"
  },
  "language_info": {
   "codemirror_mode": {
    "name": "ipython",
    "version": 3
   },
   "file_extension": ".py",
   "mimetype": "text/x-python",
   "name": "python",
   "nbconvert_exporter": "python",
   "pygments_lexer": "ipython3",
   "version": "3.5.2"
  },
  "latex_envs": {
   "LaTeX_envs_menu_present": true,
   "autoclose": false,
   "autocomplete": false,
   "bibliofile": "biblio.bib",
   "cite_by": "apalike",
   "current_citInitial": 1,
   "eqLabelWithNumbers": true,
   "eqNumInitial": 1,
   "hotkeys": {
    "equation": "Ctrl-E",
    "itemize": "Ctrl-I"
   },
   "labels_anchors": false,
   "latex_user_defs": false,
   "report_style_numbering": false,
   "user_envs_cfg": false
  },
  "toc": {
   "base_numbering": 1,
   "nav_menu": {},
   "number_sections": true,
   "sideBar": true,
   "skip_h1_title": false,
   "title_cell": "Table of Contents",
   "title_sidebar": "Contents",
   "toc_cell": true,
   "toc_position": {},
   "toc_section_display": true,
   "toc_window_display": false
  }
 },
 "nbformat": 4,
 "nbformat_minor": 2
}
